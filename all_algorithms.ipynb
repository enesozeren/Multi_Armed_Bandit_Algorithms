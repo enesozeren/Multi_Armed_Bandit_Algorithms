{
 "cells": [
  {
   "cell_type": "code",
   "execution_count": 45,
   "metadata": {},
   "outputs": [],
   "source": [
    "import numpy as np\n",
    "import matplotlib.pyplot as plt\n",
    "from __future__ import print_function, division\n",
    "from builtins import range\n",
    "from scipy.stats import beta"
   ]
  },
  {
   "cell_type": "code",
   "execution_count": 38,
   "metadata": {},
   "outputs": [],
   "source": [
    "class Variant:\n",
    "    def __init__(self, p):\n",
    "        self.p = p\n",
    "        self.N = 0\n",
    "\n",
    "    def pull(self):\n",
    "        return np.random.random() < self.p\n",
    "\n",
    "    def update(self, result_of_pull):\n",
    "        pass"
   ]
  },
  {
   "cell_type": "code",
   "execution_count": 39,
   "metadata": {},
   "outputs": [],
   "source": [
    "class EpsilonGreedyVariant(Variant):\n",
    "    def __init__(self, p):\n",
    "        super().__init__(p)\n",
    "        self.estimated_p = 0\n",
    "\n",
    "    def update(self, result_of_pull):\n",
    "        sum = self.estimated_p * self.N + result_of_pull\n",
    "        self.N += 1\n",
    "        self.estimated_p = sum / self.N"
   ]
  },
  {
   "cell_type": "code",
   "execution_count": 48,
   "metadata": {},
   "outputs": [],
   "source": [
    "def epsilon_greedy_simulation(numb_of_trials, epsilon, bandit_probabilities):\n",
    "    \n",
    "    variants = [EpsilonGreedyVariant(p) for p in bandit_probabilities]\n",
    "\n",
    "    numb_of_exploits = 0\n",
    "    numb_of_explores = 0\n",
    "    rewards = np.zeros(numb_of_trials)\n",
    "    num_optimal = 0\n",
    "    optimal_j = np.argmax([variant.p for variant in variants])\n",
    "\n",
    "    print(\"Optimal j:\", optimal_j)\n",
    "\n",
    "    for i in range (numb_of_trials):\n",
    "        \n",
    "        if np.random.random() < epsilon:\n",
    "            numb_of_explores += 1\n",
    "            chosen_bandit_index = np.random.randint(low=0, high=3)\n",
    "        else:\n",
    "            numb_of_exploits += 1\n",
    "            chosen_bandit_index = np.argmax([variant.estimated_p for variant in variants])\n",
    "        \n",
    "        if chosen_bandit_index == optimal_j:\n",
    "            num_optimal += 1\n",
    "\n",
    "        chosen_bandit = variants[chosen_bandit_index]\n",
    "\n",
    "        result_of_pull = chosen_bandit.pull()\n",
    "        rewards[i] = result_of_pull\n",
    "        chosen_bandit.update(result_of_pull)\n",
    "\n",
    "    ## Stats\n",
    "    print(f\"Optimal Run Percentage: {(num_optimal / numb_of_trials * 100):.2f}%\")\n",
    "    print(f\"Percentage of Exploit: {(numb_of_exploits / (numb_of_exploits+numb_of_explores))*100}%\")\n",
    "    print(\"Bandits' P Estimates:\", [variant.estimated_p for variant in variants])\n",
    "    print(\"Reward Percentage: \", rewards.sum() / numb_of_trials)\n",
    "\n",
    "    ## Plots\n",
    "    cumulative_rewards = np.cumsum(rewards)\n",
    "    win_rates = cumulative_rewards / (np.arange(numb_of_trials) + 1)\n",
    "    plt.plot(win_rates, label=\"Algorithm Win Rate\")\n",
    "    plt.plot(np.ones(numb_of_trials)*np.max(bandit_probabilities), label=\"Best Performing Win Rate\")\n",
    "    plt.legend()\n",
    "    plt.title(\"Win Rates over Trials\")\n",
    "    plt.xlabel(\"Trials\")\n",
    "    plt.ylabel(\"Win Rate\")\n",
    "    plt.show()"
   ]
  },
  {
   "cell_type": "code",
   "execution_count": 49,
   "metadata": {},
   "outputs": [
    {
     "name": "stdout",
     "output_type": "stream",
     "text": [
      "Optimal j: 2\n",
      "Optimal Run Percentage: 92.39%\n",
      "Percentage of Exploit: 90.03%\n",
      "Bandits' P Estimates: [0.19346049046321537, 0.5329949238578676, 0.7528953349929636]\n",
      "Reward Percentage:  0.7237\n"
     ]
    },
    {
     "data": {
      "image/png": "[encoded data removed]",
      "text/plain": [
       "<Figure size 432x288 with 1 Axes>"
      ]
     },
     "metadata": {
      "needs_background": "light"
     },
     "output_type": "display_data"
    }
   ],
   "source": [
    "epsilon_greedy_simulation(numb_of_trials=10_000, epsilon=0.1, bandit_probabilities=[0.25, 0.5, 0.75])"
   ]
  },
  {
   "cell_type": "code",
   "execution_count": 50,
   "metadata": {},
   "outputs": [],
   "source": [
    "class OptimisticInitialValueVariant(Variant):\n",
    "    def __init__(self, p):\n",
    "        super().__init__(p)\n",
    "        self.N = 1\n",
    "        self.estimated_p = 5\n",
    "\n",
    "    def update(self, result_of_pull):\n",
    "        sum = self.estimated_p * self.N + result_of_pull\n",
    "        self.N += 1\n",
    "        self.estimated_p = sum / self.N"
   ]
  },
  {
   "cell_type": "code",
   "execution_count": 57,
   "metadata": {},
   "outputs": [],
   "source": [
    "def optimistic_initial_value_simulation(numb_of_trials, bandit_probabilities):\n",
    "    variants = [OptimisticInitialValueVariant(p) for p in bandit_probabilities]\n",
    "\n",
    "    rewards = np.zeros(numb_of_trials)\n",
    "    num_optimal = 0\n",
    "    optimal_j = np.argmax([variant.p for variant in variants])\n",
    "\n",
    "    print(\"Optimal j:\", optimal_j)\n",
    "\n",
    "    for i in range (numb_of_trials):\n",
    "        \n",
    "        chosen_bandit_index = np.argmax([variant.estimated_p for variant in variants])\n",
    "        \n",
    "        if chosen_bandit_index == optimal_j:\n",
    "            num_optimal += 1\n",
    "\n",
    "        chosen_bandit = variants[chosen_bandit_index]\n",
    "\n",
    "        result_of_pull = chosen_bandit.pull()\n",
    "        rewards[i] = result_of_pull\n",
    "        chosen_bandit.update(result_of_pull)\n",
    "\n",
    "    ## Stats\n",
    "    print(f\"Optimal Run Percentage: {(num_optimal / numb_of_trials * 100):.2f}%\")\n",
    "    print(\"Bandits' P Estimates:\", [variant.estimated_p for variant in variants])\n",
    "    print(\"Reward Percentage: \", rewards.sum() / numb_of_trials)\n",
    "\n",
    "    ## Plots\n",
    "    cumulative_rewards = np.cumsum(rewards)\n",
    "    win_rates = cumulative_rewards / (np.arange(numb_of_trials) + 1)\n",
    "    plt.plot(win_rates, label=\"Algorithm Win Rate\")\n",
    "    plt.plot(np.ones(numb_of_trials)*np.max(bandit_probabilities), label=\"Best Performing Win Rate\")\n",
    "    plt.legend()\n",
    "    plt.title(\"Win Rates over Trials\")\n",
    "    plt.xlabel(\"Trials\")\n",
    "    plt.ylabel(\"Win Rate\")\n",
    "    plt.show()"
   ]
  },
  {
   "cell_type": "code",
   "execution_count": 58,
   "metadata": {},
   "outputs": [
    {
     "name": "stdout",
     "output_type": "stream",
     "text": [
      "Optimal j: 2\n",
      "Optimal Run Percentage: 99.66%\n",
      "Bandits' P Estimates: [0.6666666666666666, 0.7037037037037037, 0.7551921340423395]\n",
      "Reward Percentage:  0.7537\n"
     ]
    },
    {
     "data": {
      "image/png": "[encoded data removed]",
      "text/plain": [
       "<Figure size 432x288 with 1 Axes>"
      ]
     },
     "metadata": {
      "needs_background": "light"
     },
     "output_type": "display_data"
    }
   ],
   "source": [
    "optimistic_initial_value_simulation(numb_of_trials=10_000, bandit_probabilities=[0.25, 0.5, 0.75])"
   ]
  },
  {
   "cell_type": "code",
   "execution_count": 60,
   "metadata": {},
   "outputs": [],
   "source": [
    "class UCB1(Variant):\n",
    "    def __init__(self, p):\n",
    "        super().__init__(p)\n",
    "        self.estimated_p = 0\n",
    "\n",
    "    def update(self, result_of_pull):\n",
    "        sum = self.estimated_p * self.N + result_of_pull\n",
    "        self.N += 1\n",
    "        self.estimated_p = sum / self.N   "
   ]
  },
  {
   "cell_type": "code",
   "execution_count": 61,
   "metadata": {},
   "outputs": [],
   "source": [
    "def ucb1_simulation(numb_of_trials=10_000, bandit_probabilities=[0.25, 0.5, 0.75]):\n",
    "    variants = [UCB1(p) for p in bandit_probabilities]\n",
    "\n",
    "    rewards = np.zeros(numb_of_trials)\n",
    "    num_optimal = 0\n",
    "    optimal_j = np.argmax([variant.p for variant in variants])\n",
    "\n",
    "    print(\"Optimal j:\", optimal_j)\n",
    "\n",
    "    #initilization of bandits\n",
    "    for i in range(3):\n",
    "\n",
    "        chosen_bandit = variants[i]\n",
    "\n",
    "        result_of_pull = chosen_bandit.pull()\n",
    "        rewards[i] = result_of_pull\n",
    "        chosen_bandit.update(result_of_pull)\n",
    "\n",
    "    for i in range (3, numb_of_trials):\n",
    "        \n",
    "        chosen_bandit_index = np.argmax([(variant.estimated_p + np.sqrt(2 * np.log(i) / variant.N)) for variant in variants])\n",
    "        \n",
    "        if chosen_bandit_index == optimal_j:\n",
    "            num_optimal += 1\n",
    "\n",
    "        chosen_bandit = variants[chosen_bandit_index]\n",
    "\n",
    "        result_of_pull = chosen_bandit.pull()\n",
    "        rewards[i] = result_of_pull\n",
    "        chosen_bandit.update(result_of_pull)\n",
    "\n",
    "    ## Stats\n",
    "    print(f\"Optimal Run Percentage: {(num_optimal / numb_of_trials * 100):.2f}%\")\n",
    "    print(\"Bandits' P Estimates:\", [variant.estimated_p for variant in variants])\n",
    "    print(\"Reward Percentage: \", rewards.sum() / numb_of_trials)\n",
    "\n",
    "    ## Plots\n",
    "    cumulative_rewards = np.cumsum(rewards)\n",
    "    win_rates = cumulative_rewards / (np.arange(numb_of_trials) + 1)\n",
    "    plt.plot(win_rates, label=\"Algorithm Win Rate\")\n",
    "    plt.plot(np.ones(numb_of_trials)*np.max(bandit_probabilities), label=\"Best Performing Win Rate\")\n",
    "    plt.legend()\n",
    "    plt.title(\"Win Rates over Trials\")\n",
    "    plt.xlabel(\"Trials\")\n",
    "    plt.ylabel(\"Win Rate\")\n",
    "    plt.show()"
   ]
  },
  {
   "cell_type": "code",
   "execution_count": 62,
   "metadata": {},
   "outputs": [
    {
     "name": "stdout",
     "output_type": "stream",
     "text": [
      "Optimal j: 2\n",
      "Optimal Run Percentage: 96.54%\n",
      "Bandits' P Estimates: [0.25, 0.5302491103202847, 0.7456240290005169]\n",
      "Reward Percentage:  0.7364\n"
     ]
    },
    {
     "data": {
      "image/png": "[encoded data removed]",
      "text/plain": [
       "<Figure size 432x288 with 1 Axes>"
      ]
     },
     "metadata": {
      "needs_background": "light"
     },
     "output_type": "display_data"
    }
   ],
   "source": [
    "ucb1_simulation(numb_of_trials=10_000, bandit_probabilities=[0.25, 0.5, 0.75])"
   ]
  },
  {
   "cell_type": "code",
   "execution_count": 63,
   "metadata": {},
   "outputs": [],
   "source": [
    "class Bayesian(Variant):\n",
    "    def __init__(self, p):\n",
    "        super().__init__(p)\n",
    "        self.a = 1\n",
    "        self.b = 1\n",
    "\n",
    "    def update(self, result_of_pull):\n",
    "        self.N += 1\n",
    "        self.a += result_of_pull\n",
    "        self.b += 1 - result_of_pull"
   ]
  },
  {
   "cell_type": "code",
   "execution_count": 66,
   "metadata": {},
   "outputs": [],
   "source": [
    "def bayesian_experiment(numb_of_trials=10_000, bandit_probabilities=[0.25, 0.5, 0.75]):\n",
    "    variants = [Bayesian(p) for p in bandit_probabilities]\n",
    "\n",
    "    rewards = np.zeros(numb_of_trials)\n",
    "    num_optimal = 0\n",
    "    optimal_j = np.argmax([variant.p for variant in variants])\n",
    "\n",
    "    print(\"Optimal j:\", optimal_j)\n",
    "\n",
    "    for i in range (numb_of_trials):\n",
    "        \n",
    "        chosen_bandit_index = np.argmax([beta.rvs(variant.a, variant.b, size=1) for variant in variants])\n",
    "        \n",
    "        if chosen_bandit_index == optimal_j:\n",
    "            num_optimal += 1\n",
    "\n",
    "        chosen_bandit = variants[chosen_bandit_index]\n",
    "\n",
    "        result_of_pull = chosen_bandit.pull()\n",
    "        rewards[i] = result_of_pull\n",
    "        chosen_bandit.update(result_of_pull)\n",
    "\n",
    "    ## Stats\n",
    "    print(f\"Optimal Run Percentage: {(num_optimal / numb_of_trials * 100):.2f}%\")\n",
    "    print(\"Bandits' Parameters' Estimates:\", [(variant.a, variant.b) for variant in variants])\n",
    "    print(\"Reward Percentage: \", rewards.sum() / numb_of_trials)\n",
    "\n",
    "    ## Plots\n",
    "    x = np.linspace(0, 1, 200)\n",
    "    for b in variants:\n",
    "        y = beta.pdf(x, b.a, b.b)\n",
    "        plt.plot(x, y, label=f\"Real p: {b.p:.4f}, Win Rate = {b.a-1}/{b.N}\")\n",
    "    \n",
    "    plt.title(f\"Bandit distributions after {numb_of_trials} trials\")\n",
    "    plt.legend()\n",
    "    plt.show()"
   ]
  },
  {
   "cell_type": "code",
   "execution_count": 67,
   "metadata": {},
   "outputs": [
    {
     "name": "stdout",
     "output_type": "stream",
     "text": [
      "Optimal j: 2\n",
      "Optimal Run Percentage: 99.64%\n",
      "Bandits' Parameters' Estimates: [(5, 12), (9, 14), (7463, 2503)]\n",
      "Reward Percentage:  0.7474\n"
     ]
    },
    {
     "data": {
      "image/png": "[encoded data removed]",
      "text/plain": [
       "<Figure size 432x288 with 1 Axes>"
      ]
     },
     "metadata": {
      "needs_background": "light"
     },
     "output_type": "display_data"
    }
   ],
   "source": [
    "bayesian_experiment(numb_of_trials=10_000, bandit_probabilities=[0.25, 0.5, 0.75])"
   ]
  },
  {
   "cell_type": "code",
   "execution_count": null,
   "metadata": {},
   "outputs": [],
   "source": []
  }
 ],
 "metadata": {
  "kernelspec": {
   "display_name": "base",
   "language": "python",
   "name": "python3"
  },
  "language_info": {
   "codemirror_mode": {
    "name": "ipython",
    "version": 3
   },
   "file_extension": ".py",
   "mimetype": "text/x-python",
   "name": "python",
   "nbconvert_exporter": "python",
   "pygments_lexer": "ipython3",
   "version": "3.9.7"
  },
  "orig_nbformat": 4,
  "vscode": {
   "interpreter": {
    "hash": "85bd0f2fedd1374ee1407117fea338524b4dbc2edc77bf093dbba9f3b799c373"
   }
  }
 },
 "nbformat": 4,
 "nbformat_minor": 2
}

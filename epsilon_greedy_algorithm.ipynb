{
 "cells": [
  {
   "cell_type": "code",
   "execution_count": 19,
   "metadata": {},
   "outputs": [],
   "source": [
    "import numpy as np\n",
    "import matplotlib.pyplot as plt"
   ]
  },
  {
   "cell_type": "code",
   "execution_count": 5,
   "metadata": {},
   "outputs": [],
   "source": [
    "## Constants\n",
    "numb_of_trials = 10_000\n",
    "eps = 0.1\n",
    "bandit_probabilities = [0.2, 0.5, 0.75]"
   ]
  },
  {
   "cell_type": "code",
   "execution_count": 6,
   "metadata": {},
   "outputs": [],
   "source": [
    "class Bandit:\n",
    "    def __init__(self, p):\n",
    "        self.p = p\n",
    "        self.N = 0\n",
    "        self.estimated_p = 0\n",
    "\n",
    "    def pull(self):\n",
    "        if np.random.random() < self.p:\n",
    "            return 1\n",
    "        else:\n",
    "            return 0\n",
    "\n",
    "    def update(self, result_of_pull):\n",
    "        sum = self.estimated_p * self.N + result_of_pull\n",
    "        self.N += 1\n",
    "        self.estimated_p = sum / self.N\n",
    "        "
   ]
  },
  {
   "cell_type": "code",
   "execution_count": 20,
   "metadata": {},
   "outputs": [],
   "source": [
    "def experiment():\n",
    "    bandits = [Bandit(p) for p in bandit_probabilities]\n",
    "\n",
    "    numb_of_exploits = 0\n",
    "    numb_of_explores = 0\n",
    "    rewards = np.zeros(numb_of_trials)\n",
    "    num_optimal = 0\n",
    "    optimal_j = np.argmax([bandit.p for bandit in bandits])\n",
    "\n",
    "    print(\"Optimal j:\", optimal_j)\n",
    "\n",
    "    for i in range (numb_of_trials):\n",
    "        \n",
    "        if np.random.random() < eps:\n",
    "            numb_of_explores += 1\n",
    "            chosen_bandit_index = np.random.randint(low=0, high=3)\n",
    "        else:\n",
    "            numb_of_exploits += 1\n",
    "            chosen_bandit_index = np.argmax([bandit.estimated_p for bandit in bandits])\n",
    "        \n",
    "        if chosen_bandit_index == optimal_j:\n",
    "            num_optimal += 1\n",
    "\n",
    "        chosen_bandit = bandits[chosen_bandit_index]\n",
    "\n",
    "        result_of_pull = chosen_bandit.pull()\n",
    "        rewards[i] = result_of_pull\n",
    "        chosen_bandit.update(result_of_pull)\n",
    "\n",
    "    ## Stats\n",
    "    print(\"Optimal Runs:\", num_optimal)\n",
    "    print(\"Bandits' P Estimates:\", [bandit.estimated_p for bandit in bandits])\n",
    "    print(\"Percentage of Exploit: \", (numb_of_exploits / (numb_of_exploits+numb_of_explores)))\n",
    "    print(\"Reward Percentage: \", rewards.sum() / numb_of_trials)\n",
    "\n",
    "    ## Plots\n",
    "    cumulative_rewards = np.cumsum(rewards)\n",
    "    win_rates = cumulative_rewards / (np.arange(numb_of_trials) + 1)\n",
    "    plt.plot(win_rates)\n",
    "    plt.plot(np.ones(numb_of_trials)*np.max(bandit_probabilities))\n",
    "    plt.show()"
   ]
  },
  {
   "cell_type": "code",
   "execution_count": 21,
   "metadata": {},
   "outputs": [
    {
     "name": "stdout",
     "output_type": "stream",
     "text": [
      "Optimal j: 2\n",
      "Optimal Runs: 9203\n",
      "Bandits' P Estimates: [0.2238372093023256, 0.49448123620309015, 0.7455177659458851]\n",
      "Percentage of Exploit:  0.8948\n",
      "Reward Percentage:  0.7162\n"
     ]
    },
    {
     "data": {
      "image/png": "[encoded data removed]",
      "text/plain": [
       "<Figure size 432x288 with 1 Axes>"
      ]
     },
     "metadata": {
      "needs_background": "light"
     },
     "output_type": "display_data"
    }
   ],
   "source": [
    "experiment()"
   ]
  },
  {
   "cell_type": "code",
   "execution_count": null,
   "metadata": {},
   "outputs": [],
   "source": []
  }
 ],
 "metadata": {
  "kernelspec": {
   "display_name": "Python 3.9.7 ('base')",
   "language": "python",
   "name": "python3"
  },
  "language_info": {
   "codemirror_mode": {
    "name": "ipython",
    "version": 3
   },
   "file_extension": ".py",
   "mimetype": "text/x-python",
   "name": "python",
   "nbconvert_exporter": "python",
   "pygments_lexer": "ipython3",
   "version": "3.9.7"
  },
  "orig_nbformat": 4,
  "vscode": {
   "interpreter": {
    "hash": "85bd0f2fedd1374ee1407117fea338524b4dbc2edc77bf093dbba9f3b799c373"
   }
  }
 },
 "nbformat": 4,
 "nbformat_minor": 2
}

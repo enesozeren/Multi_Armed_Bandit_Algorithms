{
 "cells": [
  {
   "cell_type": "code",
   "execution_count": 1,
   "metadata": {},
   "outputs": [],
   "source": [
    "import numpy as np\n",
    "import matplotlib.pyplot as plt"
   ]
  },
  {
   "cell_type": "code",
   "execution_count": 2,
   "metadata": {},
   "outputs": [],
   "source": [
    "class Variant:\n",
    "    def __init__(self, p):\n",
    "        self.p = p\n",
    "        self.N = 0\n",
    "\n",
    "    def pull(self):\n",
    "        return np.random.random() < self.p\n",
    "\n",
    "    def update(self, result_of_pull):\n",
    "        pass"
   ]
  },
  {
   "cell_type": "code",
   "execution_count": 3,
   "metadata": {},
   "outputs": [],
   "source": [
    "class UCB1(Variant):\n",
    "    def __init__(self, p):\n",
    "        super().__init__(p)\n",
    "        self.estimated_p = 0\n",
    "\n",
    "    def update(self, result_of_pull):\n",
    "        sum = self.estimated_p * self.N + result_of_pull\n",
    "        self.N += 1\n",
    "        self.estimated_p = sum / self.N   "
   ]
  },
  {
   "cell_type": "code",
   "execution_count": 4,
   "metadata": {},
   "outputs": [],
   "source": [
    "def ucb1_simulation(numb_of_trials=10_000, bandit_probabilities=[0.25, 0.5, 0.75]):\n",
    "    variants = [UCB1(p) for p in bandit_probabilities]\n",
    "\n",
    "    rewards = np.zeros(numb_of_trials)\n",
    "    num_optimal = 0\n",
    "    optimal_j = np.argmax([variant.p for variant in variants])\n",
    "\n",
    "    print(\"Optimal j:\", optimal_j)\n",
    "\n",
    "    #initilization of bandits\n",
    "    for i in range(3):\n",
    "\n",
    "        chosen_bandit = variants[i]\n",
    "\n",
    "        result_of_pull = chosen_bandit.pull()\n",
    "        rewards[i] = result_of_pull\n",
    "        chosen_bandit.update(result_of_pull)\n",
    "\n",
    "    for i in range (3, numb_of_trials):\n",
    "        \n",
    "        chosen_bandit_index = np.argmax([(variant.estimated_p + np.sqrt(2 * np.log(i) / variant.N)) for variant in variants])\n",
    "        \n",
    "        if chosen_bandit_index == optimal_j:\n",
    "            num_optimal += 1\n",
    "\n",
    "        chosen_bandit = variants[chosen_bandit_index]\n",
    "\n",
    "        result_of_pull = chosen_bandit.pull()\n",
    "        rewards[i] = result_of_pull\n",
    "        chosen_bandit.update(result_of_pull)\n",
    "\n",
    "    ## Stats\n",
    "    print(f\"Optimal Run Percentage: {(num_optimal / numb_of_trials * 100):.2f}%\")\n",
    "    print(\"Bandits' P Estimates:\", [variant.estimated_p for variant in variants])\n",
    "    print(\"Reward Percentage: \", rewards.sum() / numb_of_trials)\n",
    "\n",
    "    ## Plots\n",
    "    cumulative_rewards = np.cumsum(rewards)\n",
    "    win_rates = cumulative_rewards / (np.arange(numb_of_trials) + 1)\n",
    "    plt.plot(win_rates, label=\"Algorithm Win Rate\")\n",
    "    plt.plot(np.ones(numb_of_trials)*np.max(bandit_probabilities), label=\"Best Performing Win Rate\")\n",
    "    plt.legend()\n",
    "    plt.title(\"Win Rates over Trials\")\n",
    "    plt.xlabel(\"Trials\")\n",
    "    plt.ylabel(\"Win Rate\")\n",
    "    plt.show()"
   ]
  },
  {
   "cell_type": "code",
   "execution_count": 5,
   "metadata": {},
   "outputs": [
    {
     "name": "stdout",
     "output_type": "stream",
     "text": [
      "Optimal j: 2\n",
      "Optimal Run Percentage: 97.02%\n",
      "Bandits' P Estimates: [0.2816901408450705, 0.5044247787610616, 0.7490466865917758]\n",
      "Reward Percentage:  0.7402\n"
     ]
    },
    {
     "data": {
      "image/png": "[encoded data removed]",
      "text/plain": [
       "<Figure size 432x288 with 1 Axes>"
      ]
     },
     "metadata": {
      "needs_background": "light"
     },
     "output_type": "display_data"
    }
   ],
   "source": [
    "ucb1_simulation(numb_of_trials=10_000, bandit_probabilities=[0.25, 0.5, 0.75])"
   ]
  },
  {
   "cell_type": "code",
   "execution_count": null,
   "metadata": {},
   "outputs": [],
   "source": []
  }
 ],
 "metadata": {
  "kernelspec": {
   "display_name": "dsfs",
   "language": "python",
   "name": "python3"
  },
  "language_info": {
   "codemirror_mode": {
    "name": "ipython",
    "version": 3
   },
   "file_extension": ".py",
   "mimetype": "text/x-python",
   "name": "python",
   "nbconvert_exporter": "python",
   "pygments_lexer": "ipython3",
   "version": "3.6.13"
  },
  "orig_nbformat": 4,
  "vscode": {
   "interpreter": {
    "hash": "e1a88c2d48b99d7f5525f7bbdd80c040f0bc8c9c9465c310d0ea6466f7872bac"
   }
  }
 },
 "nbformat": 4,
 "nbformat_minor": 2
}

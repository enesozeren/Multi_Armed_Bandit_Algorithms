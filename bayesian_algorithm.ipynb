{
 "cells": [
  {
   "cell_type": "code",
   "execution_count": 14,
   "metadata": {},
   "outputs": [],
   "source": [
    "import numpy as np\n",
    "import matplotlib.pyplot as plt\n",
    "from __future__ import print_function, division\n",
    "from builtins import range\n",
    "from scipy.stats import beta"
   ]
  },
  {
   "cell_type": "code",
   "execution_count": 7,
   "metadata": {},
   "outputs": [],
   "source": [
    "## Constants\n",
    "numb_of_trials = 10_000\n",
    "bandit_probabilities = [0.2, 0.5, 0.75]"
   ]
  },
  {
   "cell_type": "code",
   "execution_count": 22,
   "metadata": {},
   "outputs": [],
   "source": [
    "class Bandit:\n",
    "    def __init__(self, p):\n",
    "        self.p = p\n",
    "        self.N = 0\n",
    "        self.a = 1\n",
    "        self.b = 1\n",
    "\n",
    "    def pull(self):\n",
    "        return np.random.random() < self.p\n",
    "\n",
    "    def update(self, result_of_pull):\n",
    "        self.N += 1\n",
    "        self.a += result_of_pull\n",
    "        self.b += 1 - result_of_pull"
   ]
  },
  {
   "cell_type": "code",
   "execution_count": 31,
   "metadata": {},
   "outputs": [],
   "source": [
    "def bayesian_plot(bandits, trial):\n",
    "    x = np.linspace(0, 1, 200)\n",
    "    for b in bandits:\n",
    "        y = beta.pdf(x, b.a, b.b)\n",
    "        plt.plot(x, y, label=f\"Real p: {b.p:.4f}, Win Rate = {b.a-1}/{b.N}\")\n",
    "    \n",
    "    plt.title(f\"Bandit distributions after {trial} trials\")\n",
    "    plt.legend()\n",
    "    plt.show()"
   ]
  },
  {
   "cell_type": "code",
   "execution_count": 32,
   "metadata": {},
   "outputs": [],
   "source": [
    "def bayesian_experiment():\n",
    "    bandits = [Bandit(p) for p in bandit_probabilities]\n",
    "\n",
    "    rewards = np.zeros(numb_of_trials)\n",
    "    num_optimal = 0\n",
    "    optimal_j = np.argmax([bandit.p for bandit in bandits])\n",
    "\n",
    "    print(\"Optimal j:\", optimal_j)\n",
    "\n",
    "    for i in range (numb_of_trials):\n",
    "        \n",
    "        chosen_bandit_index = np.argmax([beta.rvs(bandit.a, bandit.b, size=1) for bandit in bandits])\n",
    "        \n",
    "        if chosen_bandit_index == optimal_j:\n",
    "            num_optimal += 1\n",
    "\n",
    "        chosen_bandit = bandits[chosen_bandit_index]\n",
    "\n",
    "        result_of_pull = chosen_bandit.pull()\n",
    "        rewards[i] = result_of_pull\n",
    "        chosen_bandit.update(result_of_pull)\n",
    "\n",
    "    ## Stats\n",
    "    print(\"Optimal Runs:\", num_optimal)\n",
    "    print(\"Bandits' Parameters' Estimates:\", [(bandit.a, bandit.b) for bandit in bandits])\n",
    "    print(\"Reward Percentage: \", rewards.sum() / numb_of_trials)\n",
    "\n",
    "    ## Plots\n",
    "    bayesian_plot(bandits, numb_of_trials)"
   ]
  },
  {
   "cell_type": "code",
   "execution_count": 33,
   "metadata": {},
   "outputs": [
    {
     "name": "stdout",
     "output_type": "stream",
     "text": [
      "Optimal j: 2\n",
      "Optimal Runs: 9908\n",
      "Bandits' Parameters' Estimates: [(3, 9), (48, 36), (7379, 2531)]\n",
      "Reward Percentage:  0.7427\n"
     ]
    },
    {
     "data": {
      "image/png": "[encoded data removed]",
      "text/plain": [
       "<Figure size 432x288 with 1 Axes>"
      ]
     },
     "metadata": {
      "needs_background": "light"
     },
     "output_type": "display_data"
    }
   ],
   "source": [
    "bayesian_experiment()"
   ]
  },
  {
   "cell_type": "code",
   "execution_count": null,
   "metadata": {},
   "outputs": [],
   "source": []
  }
 ],
 "metadata": {
  "kernelspec": {
   "display_name": "Python 3.9.7 ('base')",
   "language": "python",
   "name": "python3"
  },
  "language_info": {
   "codemirror_mode": {
    "name": "ipython",
    "version": 3
   },
   "file_extension": ".py",
   "mimetype": "text/x-python",
   "name": "python",
   "nbconvert_exporter": "python",
   "pygments_lexer": "ipython3",
   "version": "3.9.7"
  },
  "orig_nbformat": 4,
  "vscode": {
   "interpreter": {
    "hash": "85bd0f2fedd1374ee1407117fea338524b4dbc2edc77bf093dbba9f3b799c373"
   }
  }
 },
 "nbformat": 4,
 "nbformat_minor": 2
}

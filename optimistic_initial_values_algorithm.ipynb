{
 "cells": [
  {
   "cell_type": "code",
   "execution_count": 1,
   "metadata": {},
   "outputs": [],
   "source": [
    "import numpy as np\n",
    "import matplotlib.pyplot as plt"
   ]
  },
  {
   "cell_type": "code",
   "execution_count": 2,
   "metadata": {},
   "outputs": [],
   "source": [
    "class Variant:\n",
    "    def __init__(self, p):\n",
    "        self.p = p\n",
    "        self.N = 0\n",
    "\n",
    "    def pull(self):\n",
    "        return np.random.random() < self.p\n",
    "\n",
    "    def update(self, result_of_pull):\n",
    "        pass"
   ]
  },
  {
   "cell_type": "code",
   "execution_count": 3,
   "metadata": {},
   "outputs": [],
   "source": [
    "class OptimisticInitialValueVariant(Variant):\n",
    "    def __init__(self, p):\n",
    "        super().__init__(p)\n",
    "        self.N = 1\n",
    "        self.estimated_p = 5\n",
    "\n",
    "    def update(self, result_of_pull):\n",
    "        sum = self.estimated_p * self.N + result_of_pull\n",
    "        self.N += 1\n",
    "        self.estimated_p = sum / self.N"
   ]
  },
  {
   "cell_type": "code",
   "execution_count": 4,
   "metadata": {},
   "outputs": [],
   "source": [
    "def optimistic_initial_value_simulation(numb_of_trials, bandit_probabilities):\n",
    "    variants = [OptimisticInitialValueVariant(p) for p in bandit_probabilities]\n",
    "\n",
    "    rewards = np.zeros(numb_of_trials)\n",
    "    num_optimal = 0\n",
    "    optimal_j = np.argmax([variant.p for variant in variants])\n",
    "\n",
    "    print(\"Optimal j:\", optimal_j)\n",
    "\n",
    "    for i in range (numb_of_trials):\n",
    "        \n",
    "        chosen_bandit_index = np.argmax([variant.estimated_p for variant in variants])\n",
    "        \n",
    "        if chosen_bandit_index == optimal_j:\n",
    "            num_optimal += 1\n",
    "\n",
    "        chosen_bandit = variants[chosen_bandit_index]\n",
    "\n",
    "        result_of_pull = chosen_bandit.pull()\n",
    "        rewards[i] = result_of_pull\n",
    "        chosen_bandit.update(result_of_pull)\n",
    "\n",
    "    ## Stats\n",
    "    print(f\"Optimal Run Percentage: {(num_optimal / numb_of_trials * 100):.2f}%\")\n",
    "    print(\"Bandits' P Estimates:\", [variant.estimated_p for variant in variants])\n",
    "    print(\"Reward Percentage: \", rewards.sum() / numb_of_trials)\n",
    "\n",
    "    ## Plots\n",
    "    cumulative_rewards = np.cumsum(rewards)\n",
    "    win_rates = cumulative_rewards / (np.arange(numb_of_trials) + 1)\n",
    "    plt.plot(win_rates, label=\"Algorithm Win Rate\")\n",
    "    plt.plot(np.ones(numb_of_trials)*np.max(bandit_probabilities), label=\"Best Performing Win Rate\")\n",
    "    plt.legend()\n",
    "    plt.title(\"Win Rates over Trials\")\n",
    "    plt.xlabel(\"Trials\")\n",
    "    plt.ylabel(\"Win Rate\")\n",
    "    plt.show()"
   ]
  },
  {
   "cell_type": "code",
   "execution_count": 5,
   "metadata": {},
   "outputs": [
    {
     "name": "stdout",
     "output_type": "stream",
     "text": [
      "Optimal j: 2\n",
      "Optimal Run Percentage: 99.50%\n",
      "Bandits' P Estimates: [0.6666666666666666, 0.6756756756756757, 0.7472615817505784]\n",
      "Reward Percentage:  0.7456\n"
     ]
    },
    {
     "data": {
      "image/png": "[encoded data removed]",
      "text/plain": [
       "<Figure size 432x288 with 1 Axes>"
      ]
     },
     "metadata": {
      "needs_background": "light"
     },
     "output_type": "display_data"
    }
   ],
   "source": [
    "optimistic_initial_value_simulation(numb_of_trials=10_000, bandit_probabilities=[0.25, 0.5, 0.75])"
   ]
  },
  {
   "cell_type": "code",
   "execution_count": null,
   "metadata": {},
   "outputs": [],
   "source": []
  }
 ],
 "metadata": {
  "kernelspec": {
   "display_name": "Python 3.9.7 ('base')",
   "language": "python",
   "name": "python3"
  },
  "language_info": {
   "codemirror_mode": {
    "name": "ipython",
    "version": 3
   },
   "file_extension": ".py",
   "mimetype": "text/x-python",
   "name": "python",
   "nbconvert_exporter": "python",
   "pygments_lexer": "ipython3",
   "version": "3.9.7"
  },
  "orig_nbformat": 4,
  "vscode": {
   "interpreter": {
    "hash": "85bd0f2fedd1374ee1407117fea338524b4dbc2edc77bf093dbba9f3b799c373"
   }
  }
 },
 "nbformat": 4,
 "nbformat_minor": 2
}
